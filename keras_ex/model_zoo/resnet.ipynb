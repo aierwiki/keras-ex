{
 "metadata": {
  "language_info": {
   "codemirror_mode": {
    "name": "ipython",
    "version": 3
   },
   "file_extension": ".py",
   "mimetype": "text/x-python",
   "name": "python",
   "nbconvert_exporter": "python",
   "pygments_lexer": "ipython3",
   "version": "3.7.1-final"
  },
  "orig_nbformat": 2,
  "kernelspec": {
   "name": "python37164bit961d820658604e08a9cb598b3849190f",
   "display_name": "Python 3.7.1 64-bit"
  }
 },
 "nbformat": 4,
 "nbformat_minor": 2,
 "cells": [
  {
   "cell_type": "code",
   "execution_count": 51,
   "metadata": {},
   "outputs": [],
   "source": [
    "import os\n",
    "import numpy as np \n",
    "import pandas as pd"
   ]
  },
  {
   "cell_type": "code",
   "execution_count": 52,
   "metadata": {
    "tags": []
   },
   "outputs": [],
   "source": [
    "import keras\n",
    "from keras.models import Model\n",
    "from keras.layers import (\n",
    "    Input,\n",
    "    Activation,\n",
    "    Dense,\n",
    "    Flatten\n",
    ")\n",
    "from keras.layers.convolutional import (\n",
    "    Conv1D,\n",
    "    MaxPooling1D,\n",
    "    AveragePooling1D\n",
    ")\n",
    "from keras.layers.merge import add\n",
    "from keras.layers.normalization import BatchNormalization\n",
    "from keras.regularizers import l2\n",
    "from keras import backend as K"
   ]
  },
  {
   "cell_type": "code",
   "execution_count": 53,
   "metadata": {},
   "outputs": [],
   "source": [
    "def _bn_relu(inputs):\n",
    "    \"\"\"Helper to build a BN -> relu block\n",
    "    \"\"\"\n",
    "    norm = BatchNormalization(axis=1)(inputs)\n",
    "    return Activation(\"relu\")(norm)"
   ]
  },
  {
   "cell_type": "code",
   "execution_count": 54,
   "metadata": {},
   "outputs": [],
   "source": [
    "def _bn_relu_conv(**conv_params):\n",
    "    \"\"\"Helper to build a BN -> relu -> conv block\n",
    "    \"\"\"\n",
    "    filters = conv_params[\"filters\"]\n",
    "    kernel_size = conv_params[\"kernel_size\"]\n",
    "    strides = conv_params.setdefault(\"strides\", 1)\n",
    "    kernel_initializer = conv_params.setdefault(\"kernel_initializer\", \"he_normal\")\n",
    "    padding = conv_params.setdefault(\"padding\", \"causal\")\n",
    "    kernel_regularizer = conv_params.setdefault(\"kernel_regularizer\", l2(1.e-4))\n",
    "    def f(inputs):\n",
    "        activation = _bn_relu(inputs)\n",
    "        return Conv1D(filters=filters, kernel_size=kernel_size, strides=strides, padding=padding,\n",
    "                        kernel_initializer=kernel_initializer, \n",
    "                        kernel_regularizer=kernel_regularizer)(activation)\n",
    "    return f"
   ]
  },
  {
   "cell_type": "code",
   "execution_count": 55,
   "metadata": {},
   "outputs": [],
   "source": [
    "def _shortcut(inputs, residual):\n",
    "    \"\"\"Adds a shortcut between input and residual block and merges them with \"sum\"\n",
    "    Expand channels of shortcut to match residual.\n",
    "    Stride appropriately to match residual (n_sequence_size)\n",
    "    Should be int if network architecture is correcty configured\n",
    "    \"\"\"\n",
    "    inputs_shape = K.int_shape(inputs)\n",
    "    residual_shape = K.int_shape(residual)\n",
    "    equal_channels = inputs_shape[2] == residual_shape[2]\n",
    "    shortcut = inputs\n",
    "    # 1 x 1 conv if shape is different. Else identity.\n",
    "    if not equal_channels:\n",
    "        shortcut = Conv1D(filters=residual_shape[2],\n",
    "                        kernel_size=1, strides=1, padding=\"same\",\n",
    "                        kernel_initializer=\"he_normal\",\n",
    "                        kernel_regularizer=l2(1.-4))(inputs)\n",
    "    return add([shortcut, residual])\n",
    "    "
   ]
  },
  {
   "cell_type": "code",
   "execution_count": 56,
   "metadata": {},
   "outputs": [],
   "source": [
    "def bottleneck(filters, init_strides=1):\n",
    "    \"\"\"Bottleneck architecture\n",
    "    \n",
    "    Returns:\n",
    "        A final conv layer of filters * 4\n",
    "    \"\"\"\n",
    "    def f(inputs):\n",
    "        conv_1 = _bn_relu_conv(filters=filters, kernel_size=1, strides=init_strides)(inputs)\n",
    "        conv_2 = _bn_relu_conv(filters=filters, kernel_size=2)(conv_1)\n",
    "        residual = _bn_relu_conv(filters=filters * 4, kernel_size=1)(conv_2)\n",
    "        return _shortcut(inputs, residual)\n",
    "    return f"
   ]
  },
  {
   "cell_type": "code",
   "execution_count": 57,
   "metadata": {},
   "outputs": [],
   "source": [
    "def _residual_block(block_function, filters, repetitions):\n",
    "    \"\"\"Builds a residual block with repeating bottleneck blocks.\n",
    "    \"\"\"\n",
    "    def f(inputs):\n",
    "        for i in range(repetitions):\n",
    "            inputs = block_function(filters=filters, init_strides=1)(inputs)\n",
    "        return inputs\n",
    "    return f  "
   ]
  },
  {
   "cell_type": "code",
   "execution_count": 60,
   "metadata": {},
   "outputs": [],
   "source": [
    "class Resnet1DBuilder(object):\n",
    "    @staticmethod\n",
    "    def build(input_shape, num_outputs, repetitions):\n",
    "        \"\"\"Builds a custom ResNet\n",
    "\n",
    "        Args:\n",
    "            input_shape: The input shape in the form (nb_sequence_size, nb_channels)\n",
    "            num_outputs: The number of outputs at final softmax layer\n",
    "            block_fn: The block function to use.\n",
    "            repetitions: Number of repetitions of various block units.\n",
    "                At each block unit, the number of filters are doubled and the input size is halved\n",
    "        \n",
    "        Returns:\n",
    "            The keras `Model`\n",
    "        \"\"\"\n",
    "        if len(input_shape) != 2:\n",
    "            raise Exception(\"Input shape should be a tuple (nb_sequence_size, nb_channels)\")\n",
    "        inputs = Input(shape=input_shape)\n",
    "        conv1 = Conv1D(filters=64, kernel_size=2, strides=1, padding='causal',\n",
    "                        kernel_initializer=\"he_normal\", kernel_regularizer=l2(1.e-4))(inputs)    \n",
    "        block = conv1\n",
    "        filters = 64\n",
    "        for i, r in enumerate(repetitions):\n",
    "            block = _residual_block(bottleneck, filters=filters, repetitions=r)(block)\n",
    "            filters *= 2\n",
    "        \n",
    "        # last activation\n",
    "        block = _bn_relu(block)\n",
    "        \n",
    "        # Classifier block\n",
    "        block_shape = K.int_shape(block)\n",
    "        pool = AveragePooling1D(pool_size=block_shape[1], strides=1)(block)\n",
    "        flatten = Flatten()(pool)\n",
    "        dense = Dense(units=num_outputs, kernel_initializer=\"he_normal\",\n",
    "                        activation=\"softmax\")(flatten)\n",
    "        model = Model(inputs=inputs, outputs=dense)\n",
    "        return model"
   ]
  },
  {
   "cell_type": "code",
   "execution_count": 70,
   "metadata": {},
   "outputs": [
    {
     "output_type": "execute_result",
     "data": {
      "text/plain": "array([[1., 0.],\n       [0., 1.],\n       [0., 1.],\n       [1., 0.],\n       [0., 1.]])"
     },
     "metadata": {},
     "execution_count": 70
    }
   ],
   "source": [
    "np.eye(2)[np.array([0, 1, 1, 0, 1])]"
   ]
  },
  {
   "cell_type": "code",
   "execution_count": 72,
   "metadata": {},
   "outputs": [],
   "source": [
    "def main():\n",
    "    X = np.random.random((1000, 100, 4))\n",
    "    y = np.random.randint(0, 2, size=1000)\n",
    "    y = np.eye(2)[y]\n",
    "    resnet = Resnet1DBuilder.build((100, 4), 2, [2, 2, 2, 2])\n",
    "    resnet.compile(loss='binary_crossentropy', optimizer='rmsprop')\n",
    "    resnet.fit(X, y)"
   ]
  },
  {
   "cell_type": "code",
   "execution_count": 73,
   "metadata": {
    "tags": []
   },
   "outputs": [
    {
     "output_type": "stream",
     "name": "stdout",
     "text": "Epoch 1/1\n1000/1000 [==============================] - 71s 71ms/step - loss: -46003.2764\n"
    }
   ],
   "source": [
    "main()"
   ]
  },
  {
   "cell_type": "code",
   "execution_count": null,
   "metadata": {},
   "outputs": [],
   "source": []
  }
 ]
}